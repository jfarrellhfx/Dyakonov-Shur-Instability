{
 "cells": [
  {
   "cell_type": "code",
   "execution_count": 10,
   "metadata": {},
   "outputs": [],
   "source": [
    "import numpy as np\n",
    "import matplotlib.pyplot as plt\n",
    "%matplotlib inline\n",
    "import os\n",
    "import h5py\n",
    "import sys\n",
    "import gc\n",
    "import time\n",
    "home = os.path.expanduser(\"~\")\n",
    "from scipy import integrate\n",
    "# Matplotlib Parameters\n",
    "plt.rc('text', usetex=True)\n",
    "plt.rc('font', family='Times New Roman', size=10)"
   ]
  },
  {
   "cell_type": "code",
   "execution_count": 11,
   "metadata": {},
   "outputs": [],
   "source": [
    "def power(n, ratio):\n",
    "    \"\"\"\n",
    "    Calculate the (normalized) power from the nonlinear oscillator\n",
    "    as\n",
    "    \"\"\"\n",
    "    \n",
    "    k = 0.001\n",
    "    e = 1\n",
    "    \n",
    "    f = frequency(n, 0.2, k)\n",
    "    if np.isnan(f) == True:\n",
    "        return 0\n",
    "    # Let's first trim the data so that only the bit at the\n",
    "    # end where the amplitude is the same will be included\n",
    "    n = n[4 * len(n) // 8 :]\n",
    "    \n",
    "    L = 1\n",
    "    a = L / ratio\n",
    "    b = L / ratio + 1\n",
    "    r = np.linspace(a, b, n.shape[1]) + 1 / 100\n",
    "    \n",
    "    # Calculate Area\n",
    "    A = np.pi * (b**2 - a**2)\n",
    "    \n",
    "    # Compute the capacitance\n",
    "    epsilon0 = 1\n",
    "    epsilonzz = 1\n",
    "    d = 1\n",
    "    C = epsilon0 * epsilonzz * A / d\n",
    "    \n",
    "    # get the charge over the whole dataset\n",
    "    Q = []\n",
    "    for i in range(n.shape[0]):\n",
    "        q = - e * 2*np.pi* integrate.simps(r * n[i, :], x = r)\n",
    "        Q.append(q)\n",
    "    Q = np.array(Q)\n",
    "    \n",
    "    # Find the max\n",
    "    a = np.argmax(Q)\n",
    "    \n",
    "    T = 1 / f\n",
    "    indices = int( T / k)\n",
    "    \n",
    "    # measure Q from max every time\n",
    "    Q = Q[a - indices:a]\n",
    "    \n",
    "    t = np.linspace(0, T, indices)\n",
    "    \n",
    "    P = 1 / T / A * np.abs(integrate.simps(Q**2/2/C/T*np.cos(2 * np.pi * t / T), x = t))\n",
    "    return P\n",
    "\n",
    "\n",
    "def frequency(n, thresh, k):\n",
    "    n = n[len(n) // 2:,-1]\n",
    "    \n",
    "    if np.max(n) >= thresh:\n",
    "        indices = []\n",
    "        for i in range(len(n) - 1):\n",
    "            if n[i + 1] > 1.0 and n[i] <= 1.:\n",
    "                indices.append(i)\n",
    "        T = (indices[-1] - indices[-2]) * k\n",
    "        f = 1 / T\n",
    "    else:\n",
    "        f = np.nan\n",
    "    return f"
   ]
  },
  {
   "cell_type": "code",
   "execution_count": 12,
   "metadata": {},
   "outputs": [],
   "source": [
    "# Retrieve the Power\n",
    "v0s = np.linspace(0.2, 1.0, 20)\n",
    "powers = []\n",
    "ratio = 0.001"
   ]
  },
  {
   "cell_type": "code",
   "execution_count": 15,
   "metadata": {},
   "outputs": [],
   "source": [
    "\n",
    "for v0 in v0s:\n",
    "    filename = \"v0-{:5f}.h5\".format(v0)\n",
    "    if filename in os.listdir(\"ratio1\"):\n",
    "        f = h5py.File(\"ratio1/\" + filename, \"r\")\n",
    "        n = np.array(f[\"n/data\"])\n",
    "        powers.append(n, ratio)\n",
    "    else:\n",
    "        powers.append(np.nan)\n",
    "    \n",
    "    \n",
    "    "
   ]
  },
  {
   "cell_type": "code",
   "execution_count": 16,
   "metadata": {},
   "outputs": [
    {
     "data": {
      "text/plain": [
       "[nan,\n",
       " nan,\n",
       " nan,\n",
       " nan,\n",
       " nan,\n",
       " nan,\n",
       " nan,\n",
       " nan,\n",
       " nan,\n",
       " nan,\n",
       " nan,\n",
       " nan,\n",
       " nan,\n",
       " nan,\n",
       " nan,\n",
       " nan,\n",
       " nan,\n",
       " nan,\n",
       " nan,\n",
       " nan]"
      ]
     },
     "execution_count": 16,
     "metadata": {},
     "output_type": "execute_result"
    }
   ],
   "source": [
    "powers"
   ]
  },
  {
   "cell_type": "code",
   "execution_count": 17,
   "metadata": {},
   "outputs": [
    {
     "data": {
      "text/plain": [
       "array([0.2       , 0.24210526, 0.28421053, 0.32631579, 0.36842105,\n",
       "       0.41052632, 0.45263158, 0.49473684, 0.53684211, 0.57894737,\n",
       "       0.62105263, 0.66315789, 0.70526316, 0.74736842, 0.78947368,\n",
       "       0.83157895, 0.87368421, 0.91578947, 0.95789474, 1.        ])"
      ]
     },
     "execution_count": 17,
     "metadata": {},
     "output_type": "execute_result"
    }
   ],
   "source": [
    "v0s"
   ]
  },
  {
   "cell_type": "code",
   "execution_count": 18,
   "metadata": {},
   "outputs": [
    {
     "name": "stdout",
     "output_type": "stream",
     "text": [
      "1.00000\n"
     ]
    }
   ],
   "source": [
    "print(\"{:.5f}\".format(1))"
   ]
  },
  {
   "cell_type": "code",
   "execution_count": null,
   "metadata": {},
   "outputs": [],
   "source": []
  }
 ],
 "metadata": {
  "kernelspec": {
   "display_name": "Python 3",
   "language": "python",
   "name": "python3"
  },
  "language_info": {
   "codemirror_mode": {
    "name": "ipython",
    "version": 3
   },
   "file_extension": ".py",
   "mimetype": "text/x-python",
   "name": "python",
   "nbconvert_exporter": "python",
   "pygments_lexer": "ipython3",
   "version": "3.6.5"
  }
 },
 "nbformat": 4,
 "nbformat_minor": 2
}
