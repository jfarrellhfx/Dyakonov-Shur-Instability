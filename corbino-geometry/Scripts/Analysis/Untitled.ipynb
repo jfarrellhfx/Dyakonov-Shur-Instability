{
 "cells": [
  {
   "cell_type": "code",
   "execution_count": 3,
   "metadata": {},
   "outputs": [],
   "source": [
    "import numpy as np\n",
    "import matplotlib.pyplot as plt\n",
    "%matplotlib inline\n",
    "import os\n",
    "import h5py\n",
    "import sys\n",
    "import gc\n",
    "import time\n",
    "home = os.path.expanduser(\"~\")\n",
    "# Matplotlib Parameters\n",
    "plt.rc('text', usetex=True)\n",
    "plt.rc('font', family='Times New Roman', size=10)"
   ]
  },
  {
   "cell_type": "code",
   "execution_count": 9,
   "metadata": {},
   "outputs": [],
   "source": [
    "freqs = np.loadtxt(\"freqs2.txt\")\n",
    "v0s = np.linspace(0.08, 0.1, 20)\n",
    "ratios = np.linspace(0.001, 0.25, 20)\n"
   ]
  },
  {
   "cell_type": "code",
   "execution_count": 14,
   "metadata": {},
   "outputs": [
    {
     "data": {
      "image/png": "[encoded data removed]",
      "text/plain": [
       "<Figure size 364.5x266.4 with 2 Axes>"
      ]
     },
     "metadata": {
      "needs_background": "light"
     },
     "output_type": "display_data"
    }
   ],
   "source": [
    "plt.figure(figsize=(5.0625, 3.7))\n",
    "plt.pcolormesh(v0s, ratios, freqs)\n",
    "plt.xlabel(\"$v_a$\")\n",
    "plt.ylabel(\"$L/a$\")\n",
    "plt.colorbar(label = \"$fL/v_s$\")\n",
    "plt.tight_layout()\n",
    "plt.savefig(\"v0_ratio_lowres.png\", dpi = 300)"
   ]
  },
  {
   "cell_type": "code",
   "execution_count": null,
   "metadata": {},
   "outputs": [],
   "source": []
  }
 ],
 "metadata": {
  "kernelspec": {
   "display_name": "Python 3",
   "language": "python",
   "name": "python3"
  },
  "language_info": {
   "codemirror_mode": {
    "name": "ipython",
    "version": 3
   },
   "file_extension": ".py",
   "mimetype": "text/x-python",
   "name": "python",
   "nbconvert_exporter": "python",
   "pygments_lexer": "ipython3",
   "version": "3.6.5"
  }
 },
 "nbformat": 4,
 "nbformat_minor": 2
}
