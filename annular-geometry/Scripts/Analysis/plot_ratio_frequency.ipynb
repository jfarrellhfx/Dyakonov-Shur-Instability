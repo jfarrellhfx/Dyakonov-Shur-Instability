{
 "cells": [
  {
   "cell_type": "code",
   "execution_count": null,
   "metadata": {},
   "outputs": [],
   "source": [
    "import numpy as np\n",
    "import matplotlib.pyplot as plt\n",
    "import os\n",
    "\n",
    "# Matplotlib Parameters\n",
    "plt.rc('text', usetex=True)\n",
    "plt.rc('font', family='Times New Roman', size=12)\n",
    "\n",
    "# Setup Storage\n",
    "ratios = []\n",
    "n_list = []\n",
    "J_list = []\n",
    "t = np.linspace(0.0, 35.0, int(35.0/0.001) + 1)\n",
    "\n",
    "# Load Data\n",
    "for filename in os.listdir(\"../../Data/vary-ratio\"):\n",
    "    if filename.startswith(\"n\"):\n",
    "        ratios.append(float(filename[8:13]))\n",
    "        n_list.append(np.loadtxt(\"../../Data/vary-ratio/\" + filename))\n",
    "        print(filename)\n",
    "    elif filename.startswith(\"J\"):\n",
    "        J_list.append(np.loadtxt(\"../../Data/vary-ratio/\" + filename))\n",
    "        print(filename)"
   ]
  },
  {
   "cell_type": "code",
   "execution_count": null,
   "metadata": {},
   "outputs": [],
   "source": [
    "#Plot\n",
    "fig1, axes1 = plt.subplots(2, 4, figsize = (8, 4), sharex = True, sharey = True)\n",
    "i = 0\n",
    "for axlist in axes1:\n",
    "    for ax in axlist:\n",
    "        ax.plot(t, n_list[i][:,-1], color = \"black\")\n",
    "        ax.set_title(\"$\\mathcal{R} =$ \" + \"{:.3f}\".format(ratios[i]))\n",
    "        i += 1\n",
    "        ax.grid()\n",
    "for ax in [axlist[0] for axlist in axes1]:\n",
    "    ax.set_ylabel(\"$n(R_2,t)/n_0$\")\n",
    "for ax in axes1[1]:\n",
    "    ax.set_xlabel(\"$v_st/L$\")\n",
    "plt.tight_layout()\n",
    "plt.savefig(\"../../Figures/vary-ratio/vary-ratio.pdf\")\n",
    "plt.show()"
   ]
  }
 ],
 "metadata": {
  "kernelspec": {
   "display_name": "Python 3",
   "language": "python",
   "name": "python3"
  },
  "language_info": {
   "codemirror_mode": {
    "name": "ipython",
    "version": 3
   },
   "file_extension": ".py",
   "mimetype": "text/x-python",
   "name": "python",
   "nbconvert_exporter": "python",
   "pygments_lexer": "ipython3",
   "version": "3.6.5"
  }
 },
 "nbformat": 4,
 "nbformat_minor": 2
}
